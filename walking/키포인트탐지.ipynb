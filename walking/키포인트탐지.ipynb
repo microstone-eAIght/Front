{
  "nbformat": 4,
  "nbformat_minor": 0,
  "metadata": {
    "colab": {
      "provenance": []
    },
    "kernelspec": {
      "name": "python3",
      "display_name": "Python 3"
    },
    "language_info": {
      "name": "python"
    }
  },
  "cells": [
    {
      "cell_type": "code",
      "execution_count": null,
      "metadata": {
        "colab": {
          "base_uri": "https://localhost:8080/"
        },
        "id": "aqa-7fG6e61c",
        "outputId": "40fe7a55-cab7-40aa-e6fb-ee8f932b33a0"
      },
      "outputs": [
        {
          "output_type": "stream",
          "name": "stdout",
          "text": [
            "Mounted at /content/gdrive\n"
          ]
        }
      ],
      "source": [
        "from google.colab import drive\n",
        "drive.mount('/content/gdrive')\n"
      ]
    },
    {
      "cell_type": "code",
      "source": [
        "!python -m pip install torch torchvision"
      ],
      "metadata": {
        "colab": {
          "base_uri": "https://localhost:8080/"
        },
        "id": "23hbYPEafGFi",
        "outputId": "b7297d1c-b1a0-4743-9016-4ab45b64a74b"
      },
      "execution_count": null,
      "outputs": [
        {
          "output_type": "stream",
          "name": "stdout",
          "text": [
            "Requirement already satisfied: torch in /usr/local/lib/python3.10/dist-packages (2.3.0+cu121)\n",
            "Requirement already satisfied: torchvision in /usr/local/lib/python3.10/dist-packages (0.18.0+cu121)\n",
            "Requirement already satisfied: filelock in /usr/local/lib/python3.10/dist-packages (from torch) (3.15.4)\n",
            "Requirement already satisfied: typing-extensions>=4.8.0 in /usr/local/lib/python3.10/dist-packages (from torch) (4.12.2)\n",
            "Requirement already satisfied: sympy in /usr/local/lib/python3.10/dist-packages (from torch) (1.12.1)\n",
            "Requirement already satisfied: networkx in /usr/local/lib/python3.10/dist-packages (from torch) (3.3)\n",
            "Requirement already satisfied: jinja2 in /usr/local/lib/python3.10/dist-packages (from torch) (3.1.4)\n",
            "Requirement already satisfied: fsspec in /usr/local/lib/python3.10/dist-packages (from torch) (2023.6.0)\n",
            "Collecting nvidia-cuda-nvrtc-cu12==12.1.105 (from torch)\n",
            "  Using cached nvidia_cuda_nvrtc_cu12-12.1.105-py3-none-manylinux1_x86_64.whl (23.7 MB)\n",
            "Collecting nvidia-cuda-runtime-cu12==12.1.105 (from torch)\n",
            "  Using cached nvidia_cuda_runtime_cu12-12.1.105-py3-none-manylinux1_x86_64.whl (823 kB)\n",
            "Collecting nvidia-cuda-cupti-cu12==12.1.105 (from torch)\n",
            "  Using cached nvidia_cuda_cupti_cu12-12.1.105-py3-none-manylinux1_x86_64.whl (14.1 MB)\n",
            "Collecting nvidia-cudnn-cu12==8.9.2.26 (from torch)\n",
            "  Using cached nvidia_cudnn_cu12-8.9.2.26-py3-none-manylinux1_x86_64.whl (731.7 MB)\n",
            "Collecting nvidia-cublas-cu12==12.1.3.1 (from torch)\n",
            "  Using cached nvidia_cublas_cu12-12.1.3.1-py3-none-manylinux1_x86_64.whl (410.6 MB)\n",
            "Collecting nvidia-cufft-cu12==11.0.2.54 (from torch)\n",
            "  Using cached nvidia_cufft_cu12-11.0.2.54-py3-none-manylinux1_x86_64.whl (121.6 MB)\n",
            "Collecting nvidia-curand-cu12==10.3.2.106 (from torch)\n",
            "  Using cached nvidia_curand_cu12-10.3.2.106-py3-none-manylinux1_x86_64.whl (56.5 MB)\n",
            "Collecting nvidia-cusolver-cu12==11.4.5.107 (from torch)\n",
            "  Using cached nvidia_cusolver_cu12-11.4.5.107-py3-none-manylinux1_x86_64.whl (124.2 MB)\n",
            "Collecting nvidia-cusparse-cu12==12.1.0.106 (from torch)\n",
            "  Using cached nvidia_cusparse_cu12-12.1.0.106-py3-none-manylinux1_x86_64.whl (196.0 MB)\n",
            "Collecting nvidia-nccl-cu12==2.20.5 (from torch)\n",
            "  Using cached nvidia_nccl_cu12-2.20.5-py3-none-manylinux2014_x86_64.whl (176.2 MB)\n",
            "Collecting nvidia-nvtx-cu12==12.1.105 (from torch)\n",
            "  Using cached nvidia_nvtx_cu12-12.1.105-py3-none-manylinux1_x86_64.whl (99 kB)\n",
            "Requirement already satisfied: triton==2.3.0 in /usr/local/lib/python3.10/dist-packages (from torch) (2.3.0)\n",
            "Collecting nvidia-nvjitlink-cu12 (from nvidia-cusolver-cu12==11.4.5.107->torch)\n",
            "  Downloading nvidia_nvjitlink_cu12-12.5.82-py3-none-manylinux2014_x86_64.whl (21.3 MB)\n",
            "\u001b[2K     \u001b[90m━━━━━━━━━━━━━━━━━━━━━━━━━━━━━━━━━━━━━━━━\u001b[0m \u001b[32m21.3/21.3 MB\u001b[0m \u001b[31m47.8 MB/s\u001b[0m eta \u001b[36m0:00:00\u001b[0m\n",
            "\u001b[?25hRequirement already satisfied: numpy in /usr/local/lib/python3.10/dist-packages (from torchvision) (1.25.2)\n",
            "Requirement already satisfied: pillow!=8.3.*,>=5.3.0 in /usr/local/lib/python3.10/dist-packages (from torchvision) (9.4.0)\n",
            "Requirement already satisfied: MarkupSafe>=2.0 in /usr/local/lib/python3.10/dist-packages (from jinja2->torch) (2.1.5)\n",
            "Requirement already satisfied: mpmath<1.4.0,>=1.1.0 in /usr/local/lib/python3.10/dist-packages (from sympy->torch) (1.3.0)\n",
            "Installing collected packages: nvidia-nvtx-cu12, nvidia-nvjitlink-cu12, nvidia-nccl-cu12, nvidia-curand-cu12, nvidia-cufft-cu12, nvidia-cuda-runtime-cu12, nvidia-cuda-nvrtc-cu12, nvidia-cuda-cupti-cu12, nvidia-cublas-cu12, nvidia-cusparse-cu12, nvidia-cudnn-cu12, nvidia-cusolver-cu12\n",
            "Successfully installed nvidia-cublas-cu12-12.1.3.1 nvidia-cuda-cupti-cu12-12.1.105 nvidia-cuda-nvrtc-cu12-12.1.105 nvidia-cuda-runtime-cu12-12.1.105 nvidia-cudnn-cu12-8.9.2.26 nvidia-cufft-cu12-11.0.2.54 nvidia-curand-cu12-10.3.2.106 nvidia-cusolver-cu12-11.4.5.107 nvidia-cusparse-cu12-12.1.0.106 nvidia-nccl-cu12-2.20.5 nvidia-nvjitlink-cu12-12.5.82 nvidia-nvtx-cu12-12.1.105\n"
          ]
        }
      ]
    },
    {
      "cell_type": "code",
      "source": [
        "!pip install ultralytics"
      ],
      "metadata": {
        "colab": {
          "base_uri": "https://localhost:8080/"
        },
        "id": "GKecG3yKfbhS",
        "outputId": "c8325a8d-15a5-46de-faf9-3c24158b0d64"
      },
      "execution_count": null,
      "outputs": [
        {
          "output_type": "stream",
          "name": "stdout",
          "text": [
            "Collecting ultralytics\n",
            "  Downloading ultralytics-8.2.48-py3-none-any.whl (793 kB)\n",
            "\u001b[2K     \u001b[90m━━━━━━━━━━━━━━━━━━━━━━━━━━━━━━━━━━━━━━━━\u001b[0m \u001b[32m793.7/793.7 kB\u001b[0m \u001b[31m7.7 MB/s\u001b[0m eta \u001b[36m0:00:00\u001b[0m\n",
            "\u001b[?25hRequirement already satisfied: numpy<2.0.0,>=1.23.0 in /usr/local/lib/python3.10/dist-packages (from ultralytics) (1.25.2)\n",
            "Requirement already satisfied: matplotlib>=3.3.0 in /usr/local/lib/python3.10/dist-packages (from ultralytics) (3.7.1)\n",
            "Requirement already satisfied: opencv-python>=4.6.0 in /usr/local/lib/python3.10/dist-packages (from ultralytics) (4.8.0.76)\n",
            "Requirement already satisfied: pillow>=7.1.2 in /usr/local/lib/python3.10/dist-packages (from ultralytics) (9.4.0)\n",
            "Requirement already satisfied: pyyaml>=5.3.1 in /usr/local/lib/python3.10/dist-packages (from ultralytics) (6.0.1)\n",
            "Requirement already satisfied: requests>=2.23.0 in /usr/local/lib/python3.10/dist-packages (from ultralytics) (2.31.0)\n",
            "Requirement already satisfied: scipy>=1.4.1 in /usr/local/lib/python3.10/dist-packages (from ultralytics) (1.11.4)\n",
            "Requirement already satisfied: torch>=1.8.0 in /usr/local/lib/python3.10/dist-packages (from ultralytics) (2.3.0+cu121)\n",
            "Requirement already satisfied: torchvision>=0.9.0 in /usr/local/lib/python3.10/dist-packages (from ultralytics) (0.18.0+cu121)\n",
            "Requirement already satisfied: tqdm>=4.64.0 in /usr/local/lib/python3.10/dist-packages (from ultralytics) (4.66.4)\n",
            "Requirement already satisfied: psutil in /usr/local/lib/python3.10/dist-packages (from ultralytics) (5.9.5)\n",
            "Requirement already satisfied: py-cpuinfo in /usr/local/lib/python3.10/dist-packages (from ultralytics) (9.0.0)\n",
            "Requirement already satisfied: pandas>=1.1.4 in /usr/local/lib/python3.10/dist-packages (from ultralytics) (2.0.3)\n",
            "Requirement already satisfied: seaborn>=0.11.0 in /usr/local/lib/python3.10/dist-packages (from ultralytics) (0.13.1)\n",
            "Collecting ultralytics-thop>=2.0.0 (from ultralytics)\n",
            "  Downloading ultralytics_thop-2.0.0-py3-none-any.whl (25 kB)\n",
            "Requirement already satisfied: contourpy>=1.0.1 in /usr/local/lib/python3.10/dist-packages (from matplotlib>=3.3.0->ultralytics) (1.2.1)\n",
            "Requirement already satisfied: cycler>=0.10 in /usr/local/lib/python3.10/dist-packages (from matplotlib>=3.3.0->ultralytics) (0.12.1)\n",
            "Requirement already satisfied: fonttools>=4.22.0 in /usr/local/lib/python3.10/dist-packages (from matplotlib>=3.3.0->ultralytics) (4.53.0)\n",
            "Requirement already satisfied: kiwisolver>=1.0.1 in /usr/local/lib/python3.10/dist-packages (from matplotlib>=3.3.0->ultralytics) (1.4.5)\n",
            "Requirement already satisfied: packaging>=20.0 in /usr/local/lib/python3.10/dist-packages (from matplotlib>=3.3.0->ultralytics) (24.1)\n",
            "Requirement already satisfied: pyparsing>=2.3.1 in /usr/local/lib/python3.10/dist-packages (from matplotlib>=3.3.0->ultralytics) (3.1.2)\n",
            "Requirement already satisfied: python-dateutil>=2.7 in /usr/local/lib/python3.10/dist-packages (from matplotlib>=3.3.0->ultralytics) (2.8.2)\n",
            "Requirement already satisfied: pytz>=2020.1 in /usr/local/lib/python3.10/dist-packages (from pandas>=1.1.4->ultralytics) (2023.4)\n",
            "Requirement already satisfied: tzdata>=2022.1 in /usr/local/lib/python3.10/dist-packages (from pandas>=1.1.4->ultralytics) (2024.1)\n",
            "Requirement already satisfied: charset-normalizer<4,>=2 in /usr/local/lib/python3.10/dist-packages (from requests>=2.23.0->ultralytics) (3.3.2)\n",
            "Requirement already satisfied: idna<4,>=2.5 in /usr/local/lib/python3.10/dist-packages (from requests>=2.23.0->ultralytics) (3.7)\n",
            "Requirement already satisfied: urllib3<3,>=1.21.1 in /usr/local/lib/python3.10/dist-packages (from requests>=2.23.0->ultralytics) (2.0.7)\n",
            "Requirement already satisfied: certifi>=2017.4.17 in /usr/local/lib/python3.10/dist-packages (from requests>=2.23.0->ultralytics) (2024.6.2)\n",
            "Requirement already satisfied: filelock in /usr/local/lib/python3.10/dist-packages (from torch>=1.8.0->ultralytics) (3.15.4)\n",
            "Requirement already satisfied: typing-extensions>=4.8.0 in /usr/local/lib/python3.10/dist-packages (from torch>=1.8.0->ultralytics) (4.12.2)\n",
            "Requirement already satisfied: sympy in /usr/local/lib/python3.10/dist-packages (from torch>=1.8.0->ultralytics) (1.12.1)\n",
            "Requirement already satisfied: networkx in /usr/local/lib/python3.10/dist-packages (from torch>=1.8.0->ultralytics) (3.3)\n",
            "Requirement already satisfied: jinja2 in /usr/local/lib/python3.10/dist-packages (from torch>=1.8.0->ultralytics) (3.1.4)\n",
            "Requirement already satisfied: fsspec in /usr/local/lib/python3.10/dist-packages (from torch>=1.8.0->ultralytics) (2023.6.0)\n",
            "Requirement already satisfied: nvidia-cuda-nvrtc-cu12==12.1.105 in /usr/local/lib/python3.10/dist-packages (from torch>=1.8.0->ultralytics) (12.1.105)\n",
            "Requirement already satisfied: nvidia-cuda-runtime-cu12==12.1.105 in /usr/local/lib/python3.10/dist-packages (from torch>=1.8.0->ultralytics) (12.1.105)\n",
            "Requirement already satisfied: nvidia-cuda-cupti-cu12==12.1.105 in /usr/local/lib/python3.10/dist-packages (from torch>=1.8.0->ultralytics) (12.1.105)\n",
            "Requirement already satisfied: nvidia-cudnn-cu12==8.9.2.26 in /usr/local/lib/python3.10/dist-packages (from torch>=1.8.0->ultralytics) (8.9.2.26)\n",
            "Requirement already satisfied: nvidia-cublas-cu12==12.1.3.1 in /usr/local/lib/python3.10/dist-packages (from torch>=1.8.0->ultralytics) (12.1.3.1)\n",
            "Requirement already satisfied: nvidia-cufft-cu12==11.0.2.54 in /usr/local/lib/python3.10/dist-packages (from torch>=1.8.0->ultralytics) (11.0.2.54)\n",
            "Requirement already satisfied: nvidia-curand-cu12==10.3.2.106 in /usr/local/lib/python3.10/dist-packages (from torch>=1.8.0->ultralytics) (10.3.2.106)\n",
            "Requirement already satisfied: nvidia-cusolver-cu12==11.4.5.107 in /usr/local/lib/python3.10/dist-packages (from torch>=1.8.0->ultralytics) (11.4.5.107)\n",
            "Requirement already satisfied: nvidia-cusparse-cu12==12.1.0.106 in /usr/local/lib/python3.10/dist-packages (from torch>=1.8.0->ultralytics) (12.1.0.106)\n",
            "Requirement already satisfied: nvidia-nccl-cu12==2.20.5 in /usr/local/lib/python3.10/dist-packages (from torch>=1.8.0->ultralytics) (2.20.5)\n",
            "Requirement already satisfied: nvidia-nvtx-cu12==12.1.105 in /usr/local/lib/python3.10/dist-packages (from torch>=1.8.0->ultralytics) (12.1.105)\n",
            "Requirement already satisfied: triton==2.3.0 in /usr/local/lib/python3.10/dist-packages (from torch>=1.8.0->ultralytics) (2.3.0)\n",
            "Requirement already satisfied: nvidia-nvjitlink-cu12 in /usr/local/lib/python3.10/dist-packages (from nvidia-cusolver-cu12==11.4.5.107->torch>=1.8.0->ultralytics) (12.5.82)\n",
            "Requirement already satisfied: six>=1.5 in /usr/local/lib/python3.10/dist-packages (from python-dateutil>=2.7->matplotlib>=3.3.0->ultralytics) (1.16.0)\n",
            "Requirement already satisfied: MarkupSafe>=2.0 in /usr/local/lib/python3.10/dist-packages (from jinja2->torch>=1.8.0->ultralytics) (2.1.5)\n",
            "Requirement already satisfied: mpmath<1.4.0,>=1.1.0 in /usr/local/lib/python3.10/dist-packages (from sympy->torch>=1.8.0->ultralytics) (1.3.0)\n",
            "Installing collected packages: ultralytics-thop, ultralytics\n",
            "Successfully installed ultralytics-8.2.48 ultralytics-thop-2.0.0\n"
          ]
        }
      ]
    },
    {
      "cell_type": "code",
      "source": [
        "%cd /content/gdrive/MyDrive/pytest_img/YOLO/"
      ],
      "metadata": {
        "colab": {
          "base_uri": "https://localhost:8080/"
        },
        "id": "EBGM8ONJf00p",
        "outputId": "02908331-e10b-462f-d871-7fecc336be51"
      },
      "execution_count": null,
      "outputs": [
        {
          "output_type": "stream",
          "name": "stdout",
          "text": [
            "/content/gdrive/MyDrive/pytest_img/YOLO\n"
          ]
        }
      ]
    },
    {
      "cell_type": "code",
      "source": [
        "!ls"
      ],
      "metadata": {
        "colab": {
          "base_uri": "https://localhost:8080/"
        },
        "id": "BqEVoWCwf3Ew",
        "outputId": "7e2a04ad-cc65-410d-f499-928d2c571118"
      },
      "execution_count": null,
      "outputs": [
        {
          "output_type": "stream",
          "name": "stdout",
          "text": [
            "best.pt      nets\t\t README.roboflow.txt  sample.mp4  valid\n",
            "data.yaml    output_frames\t result\t\t      test\t  yolov5\n",
            "gangnam.jpg  README.dataset.txt  results\t      train\t  yolov5s.pt\n"
          ]
        }
      ]
    },
    {
      "cell_type": "code",
      "source": [
        "from ultralytics import YOLO\n",
        "model = YOLO(\"../models/yolov8m-pose.pt\")\n"
      ],
      "metadata": {
        "id": "ACJSucDbf5IQ"
      },
      "execution_count": null,
      "outputs": []
    },
    {
      "cell_type": "code",
      "source": [
        "seconds = 1 # 동영상을 읽을 시간을 초 단위로 설정\n",
        "\n",
        "video_path = '/content/gdrive/MyDrive/pytest_img/YOLO/walking.mp4' # video path\n",
        "output_dir = '/content/gdrive/MyDrive/pytest_img/YOLO/results' # 결과 저장 폴더\n"
      ],
      "metadata": {
        "id": "j17QENxcf8Uw"
      },
      "execution_count": null,
      "outputs": []
    },
    {
      "cell_type": "code",
      "source": [
        "#객체 탐지에서 사용했던 예측 함수가 필요하다. 바운딩 박스와 함께 키포인트 탐지 분석도 수행한다\n",
        "import torch\n",
        "def predict(frame, iou=0.7, conf=0.25):\n",
        "  results = model(\n",
        "    source = frame,\n",
        "    device = \"0\" if torch.cuda.is_available() else \"cpu\",\n",
        "    iou = iou, # 바운딩 박스 필터링 신뢰도 기준\n",
        "    conf = conf, # 모델이 탐지한 객체에 대한 최소 신뢰도 기준\n",
        "    verbose = False, #  추가 정보 출력 여부\n",
        "  )\n",
        "  result = results[0] # 첫 번째 프레임의 이미지 (현재 1개씩의 프레임만 전달됨)\n",
        "  return result\n"
      ],
      "metadata": {
        "id": "FOwUXo4RgEkA"
      },
      "execution_count": null,
      "outputs": []
    },
    {
      "cell_type": "code",
      "source": [
        "import cv2\n",
        "import numpy as np"
      ],
      "metadata": {
        "id": "r4JOacBlIrCl"
      },
      "execution_count": null,
      "outputs": []
    },
    {
      "cell_type": "code",
      "source": [
        "def draw_keypoints(result, frame):\n",
        "# 신체 부위를 따라 키 포인트를 연결하는 리스트\n",
        "  connections = [\n",
        "      ([4, 2, 0, 1, 3], (0, 255, 0)), # 얼굴 부위. 초록\n",
        "      ([10, 8, 6, 5, 7, 9], (255, 0, 0)), # 두 팔. 파랑\n",
        "      ([6, 12, 11, 5], (255, 0, 255)), # 몸통. 보라\n",
        "      ([12, 14, 16], (0, 165, 255)), # 오른 다리. 주홍\n",
        "      ([11, 13, 15], (0, 165, 255)) # 왼 다리. 주홍\n",
        "  ]\n",
        "\n",
        "  for kps in result.keypoints: # predict()가 분석한 키 포인트의 원소를 순회\n",
        "      kps = kps.data.squeeze() # 크기가 1인 불필요한 차원 제거\n",
        "      nkps = kps.cpu().numpy() # 넘파이 배열로 변환\n",
        "\n",
        "      for group, color in connections:\n",
        "        for i in range(len(group) - 1):\n",
        "          idx1, idx2 = group[i], group[i + 1] # 키 포인트와 이어야 하는 인접 키 포인트\n",
        "          x1, y1, score1 = nkps[idx1] # x좌표, y좌표, 신뢰도 추출\n",
        "          x2, y2, score2 = nkps[idx2] # x좌표, y좌표, 신뢰도 추출\n",
        "\n",
        "          if score1 > 0.5 and score2 > 0.5: # 두 키 포인트의 신뢰도가 0.5보다 큰 경우에만\n",
        "            point1 = (int(x1), int(y1)) # 키 포인트\n",
        "            point2 = (int(x2), int(y2)) # 인접한 키 포인트\n",
        "\n",
        "            cv2.circle(frame, point1, 3, (0, 0, 255), cv2.FILLED) # 각 키 포인트를 빨간색 원으로 그림\n",
        "            cv2.putText(frame, str(idx1), point1, cv2.FONT_HERSHEY_COMPLEX, 1, (0, 0, 255), 1)\n",
        "\n",
        "            cv2.circle(frame, point2, 3, (0, 0, 255), cv2.FILLED) # 인접 키 포인트\n",
        "            cv2.putText(frame, str(idx2), point2, cv2.FONT_HERSHEY_COMPLEX, 1, (0, 0, 255), 1)\n",
        "\n",
        "            cv2.line(frame, point1, point2, color, 2) # 두 키 포인트를 선으로 연결\n",
        "\n",
        "  return frame # 키 포인트와 연결된 선이 그려진 frame 반환\n"
      ],
      "metadata": {
        "id": "0UDi7m7Q8Y5O"
      },
      "execution_count": null,
      "outputs": []
    },
    {
      "cell_type": "markdown",
      "source": [],
      "metadata": {
        "id": "nslihDZj-IGP"
      }
    },
    {
      "cell_type": "code",
      "source": [
        "import cv2\n",
        "\n",
        "capture = cv2.VideoCapture(video_path)\n",
        "if capture.get(cv2.CAP_PROP_POS_FRAMES) == capture.get(cv2.CAP_PROP_FRAME_COUNT):\n",
        "    capture.set(cv2.CAP_PROP_POS_FRAMES, 0)\n",
        "fps = capture.get(cv2.CAP_PROP_FPS) # 초당 프레임 수 얻기\n",
        "total_frames = int(fps * seconds) # seconds 시간 동안의 프레임 수\n",
        "print('total 프레임:', total_frames)"
      ],
      "metadata": {
        "colab": {
          "base_uri": "https://localhost:8080/"
        },
        "id": "9I2haGIQ9gEm",
        "outputId": "439f50d8-e8f0-46ec-bf18-f70803f35494"
      },
      "execution_count": null,
      "outputs": [
        {
          "output_type": "stream",
          "name": "stdout",
          "text": [
            "total 프레임: 25\n"
          ]
        }
      ]
    },
    {
      "cell_type": "code",
      "source": [
        "import os\n",
        "\n",
        "if not os.path.exists(output_dir):\n",
        "    os.makedirs(output_dir)\n",
        "\n",
        "frame_count = 0\n",
        "while frame_count < total_frames:\n",
        "    ok, frame = capture.read()\n",
        "    if not ok:\n",
        "        print(\"프레임 읽기에 실패했습니다. 종료.\")\n",
        "        break\n",
        "    result = predict(frame) # 바운딩 박스와 키포인트 분석\n",
        "    results = draw_keypoints(result, frame) # 분석된 내용으로 키포인트 연결\n",
        "\n",
        "    output_path = os.path.join(output_dir, f'frame_{frame_count:04d}.jpg')\n",
        "    cv2.imwrite(output_path, results)\n",
        "    print(\"Saved to:\", output_path)\n",
        "\n",
        "    frame_count += 1\n",
        "    key = cv2.waitKey(10)\n",
        "    if key == ord('q'):\n",
        "        print(\"사용자가 종료를 요청했습니다.\")\n",
        "        break\n",
        "\n",
        "capture.release()\n",
        "cv2.destroyAllWindows()"
      ],
      "metadata": {
        "colab": {
          "base_uri": "https://localhost:8080/"
        },
        "id": "obOujZb4KAnq",
        "outputId": "96476cb4-fabf-4e3c-95b5-90f8006d7f3c"
      },
      "execution_count": null,
      "outputs": [
        {
          "output_type": "stream",
          "name": "stdout",
          "text": [
            "Saved to: /content/gdrive/MyDrive/pytest_img/YOLO/results/frame_0000.jpg\n",
            "Saved to: /content/gdrive/MyDrive/pytest_img/YOLO/results/frame_0001.jpg\n",
            "Saved to: /content/gdrive/MyDrive/pytest_img/YOLO/results/frame_0002.jpg\n",
            "Saved to: /content/gdrive/MyDrive/pytest_img/YOLO/results/frame_0003.jpg\n",
            "Saved to: /content/gdrive/MyDrive/pytest_img/YOLO/results/frame_0004.jpg\n",
            "Saved to: /content/gdrive/MyDrive/pytest_img/YOLO/results/frame_0005.jpg\n",
            "Saved to: /content/gdrive/MyDrive/pytest_img/YOLO/results/frame_0006.jpg\n",
            "Saved to: /content/gdrive/MyDrive/pytest_img/YOLO/results/frame_0007.jpg\n",
            "Saved to: /content/gdrive/MyDrive/pytest_img/YOLO/results/frame_0008.jpg\n",
            "Saved to: /content/gdrive/MyDrive/pytest_img/YOLO/results/frame_0009.jpg\n",
            "Saved to: /content/gdrive/MyDrive/pytest_img/YOLO/results/frame_0010.jpg\n",
            "Saved to: /content/gdrive/MyDrive/pytest_img/YOLO/results/frame_0011.jpg\n",
            "Saved to: /content/gdrive/MyDrive/pytest_img/YOLO/results/frame_0012.jpg\n",
            "Saved to: /content/gdrive/MyDrive/pytest_img/YOLO/results/frame_0013.jpg\n",
            "Saved to: /content/gdrive/MyDrive/pytest_img/YOLO/results/frame_0014.jpg\n",
            "Saved to: /content/gdrive/MyDrive/pytest_img/YOLO/results/frame_0015.jpg\n",
            "Saved to: /content/gdrive/MyDrive/pytest_img/YOLO/results/frame_0016.jpg\n",
            "Saved to: /content/gdrive/MyDrive/pytest_img/YOLO/results/frame_0017.jpg\n",
            "Saved to: /content/gdrive/MyDrive/pytest_img/YOLO/results/frame_0018.jpg\n",
            "Saved to: /content/gdrive/MyDrive/pytest_img/YOLO/results/frame_0019.jpg\n",
            "Saved to: /content/gdrive/MyDrive/pytest_img/YOLO/results/frame_0020.jpg\n",
            "Saved to: /content/gdrive/MyDrive/pytest_img/YOLO/results/frame_0021.jpg\n",
            "Saved to: /content/gdrive/MyDrive/pytest_img/YOLO/results/frame_0022.jpg\n",
            "Saved to: /content/gdrive/MyDrive/pytest_img/YOLO/results/frame_0023.jpg\n",
            "Saved to: /content/gdrive/MyDrive/pytest_img/YOLO/results/frame_0024.jpg\n"
          ]
        }
      ]
    }
  ]
}